{
 "cells": [
  {
   "cell_type": "markdown",
   "source": [
    "# Introduction and Data Loading"
   ],
   "metadata": {
    "collapsed": false
   },
   "id": "15f946e2c3a12ae7"
  },
  {
   "cell_type": "markdown",
   "source": [
    "This dataset is collected to analyze the behavior of Amazon's consumers. It consists of a comprehensive collection of customer interactions and browsing patterns within the Amazon ecosystem.\n",
    "\n",
    "Feature:\n",
    "**age** = age\n",
    "**gender** = gender\n",
    "**Purchase_Frequency** = How frequently do you make purchases on Amazon?\n",
    "**Purchase_Categories** = What product categories do you typically purchase on Amazon?\n",
    "**Personalized_Recommendation_Frequency** = Have you ever made a purchase based on personalized product recommendations from Amazon?\n",
    "**Browsing_Frequency** =How often do you browse Amazon's website or app?\n",
    "**Product_Search_Method** =How do you search for products on Amazon?\n",
    "**Search_Result_Exploration** =Do you tend to explore multiple pages of search results or focus on the first page?\n",
    "**Customer_Reviews_Importance** =How important are customer reviews in your decision-making process?\n",
    "**Add_to_Cart_Browsing** =Do you add products to your cart while browsing on Amazon?\n",
    "**Cart_Completion_Frequency** =How often do you complete the purchase after adding products to your cart?\n",
    "**Cart_Abandonment_Factors** =What factors influence your decision to abandon a purchase in your cart?\n",
    "**Saveforlater_Frequency** =Do you use Amazon's \"Save for Later\" feature, and if so, how often?\n",
    "**Review_Left** =Have you ever left a product review on Amazon?\n",
    "**Review_Reliability** =How much do you rely on product reviews when making a purchase?\n",
    "**Review_Helpfulness** =Do you find helpful information from other customers' reviews?\n",
    "**Personalized_Recommendation_Frequency** =How often do you receive personalized product recommendations from Amazon?\n",
    "**Recommendation_Helpfulness** =Do you find the recommendations helpful?\n",
    "**Rating_Accuracy** =How would you rate the relevance and accuracy of the recommendations you receive\n",
    "**Shopping_Satisfaction** =How satisfied are you with your overall shopping experience on Amazon?\n",
    "**Service_Appreciation** =What aspects of Amazon's services do you appreciate the most?\n",
    "**Improvement_Areas** =Are there any areas where you think Amazon can improve?\n",
    "\n",
    "**Data Source**: <https://www.kaggle.com/datasets/swathiunnikrishnan/amazon-consumer-behaviour-dataset>"
   ],
   "metadata": {
    "collapsed": false
   },
   "id": "9e7c9fbe8238fbd1"
  },
  {
   "cell_type": "code",
   "execution_count": 1,
   "outputs": [
    {
     "data": {
      "text/plain": "                        Timestamp  age             Gender  \\\n0  2023/06/04 1:28:19 PM GMT+5:30   23             Female   \n1  2023/06/04 2:30:44 PM GMT+5:30   23             Female   \n2  2023/06/04 5:04:56 PM GMT+5:30   24  Prefer not to say   \n3  2023/06/04 5:13:00 PM GMT+5:30   24             Female   \n4  2023/06/04 5:28:06 PM GMT+5:30   22             Female   \n\n       Purchase_Frequency                                Purchase_Categories  \\\n0       Few times a month                           Beauty and Personal Care   \n1            Once a month                               Clothing and Fashion   \n2       Few times a month    Groceries and Gourmet Food;Clothing and Fashion   \n3            Once a month  Beauty and Personal Care;Clothing and Fashion;...   \n4  Less than once a month      Beauty and Personal Care;Clothing and Fashion   \n\n  Personalized_Recommendation_Frequency Browsing_Frequency  \\\n0                                   Yes   Few times a week   \n1                                   Yes  Few times a month   \n2                                    No  Few times a month   \n3                             Sometimes  Few times a month   \n4                                   Yes  Few times a month   \n\n  Product_Search_Method Search_Result_Exploration  \\\n0               Keyword            Multiple pages   \n1               Keyword            Multiple pages   \n2               Keyword            Multiple pages   \n3               Keyword                First page   \n4                Filter            Multiple pages   \n\n   Customer_Reviews_Importance  ... Saveforlater_Frequency Review_Left  \\\n0                            1  ...              Sometimes         Yes   \n1                            1  ...                 Rarely          No   \n2                            2  ...                 Rarely          No   \n3                            5  ...              Sometimes         Yes   \n4                            1  ...                 Rarely          No   \n\n  Review_Reliability Review_Helpfulness  \\\n0       Occasionally                Yes   \n1            Heavily                Yes   \n2       Occasionally                 No   \n3            Heavily                Yes   \n4            Heavily                Yes   \n\n  Personalized_Recommendation_Frequency  Recommendation_Helpfulness  \\\n0                                      2                        Yes   \n1                                      2                  Sometimes   \n2                                      4                         No   \n3                                      3                  Sometimes   \n4                                      4                        Yes   \n\n  Rating_Accuracy   Shopping_Satisfaction    Service_Appreciation  \\\n0                1                      1      Competitive prices   \n1                3                      2  Wide product selection   \n2                3                      3      Competitive prices   \n3                3                      4      Competitive prices   \n4                2                      2      Competitive prices   \n\n              Improvement_Areas  \n0      Reducing packaging waste  \n1      Reducing packaging waste  \n2  Product quality and accuracy  \n3  Product quality and accuracy  \n4  Product quality and accuracy  \n\n[5 rows x 23 columns]",
      "text/html": "<div>\n<style scoped>\n    .dataframe tbody tr th:only-of-type {\n        vertical-align: middle;\n    }\n\n    .dataframe tbody tr th {\n        vertical-align: top;\n    }\n\n    .dataframe thead th {\n        text-align: right;\n    }\n</style>\n<table border=\"1\" class=\"dataframe\">\n  <thead>\n    <tr style=\"text-align: right;\">\n      <th></th>\n      <th>Timestamp</th>\n      <th>age</th>\n      <th>Gender</th>\n      <th>Purchase_Frequency</th>\n      <th>Purchase_Categories</th>\n      <th>Personalized_Recommendation_Frequency</th>\n      <th>Browsing_Frequency</th>\n      <th>Product_Search_Method</th>\n      <th>Search_Result_Exploration</th>\n      <th>Customer_Reviews_Importance</th>\n      <th>...</th>\n      <th>Saveforlater_Frequency</th>\n      <th>Review_Left</th>\n      <th>Review_Reliability</th>\n      <th>Review_Helpfulness</th>\n      <th>Personalized_Recommendation_Frequency</th>\n      <th>Recommendation_Helpfulness</th>\n      <th>Rating_Accuracy</th>\n      <th>Shopping_Satisfaction</th>\n      <th>Service_Appreciation</th>\n      <th>Improvement_Areas</th>\n    </tr>\n  </thead>\n  <tbody>\n    <tr>\n      <th>0</th>\n      <td>2023/06/04 1:28:19 PM GMT+5:30</td>\n      <td>23</td>\n      <td>Female</td>\n      <td>Few times a month</td>\n      <td>Beauty and Personal Care</td>\n      <td>Yes</td>\n      <td>Few times a week</td>\n      <td>Keyword</td>\n      <td>Multiple pages</td>\n      <td>1</td>\n      <td>...</td>\n      <td>Sometimes</td>\n      <td>Yes</td>\n      <td>Occasionally</td>\n      <td>Yes</td>\n      <td>2</td>\n      <td>Yes</td>\n      <td>1</td>\n      <td>1</td>\n      <td>Competitive prices</td>\n      <td>Reducing packaging waste</td>\n    </tr>\n    <tr>\n      <th>1</th>\n      <td>2023/06/04 2:30:44 PM GMT+5:30</td>\n      <td>23</td>\n      <td>Female</td>\n      <td>Once a month</td>\n      <td>Clothing and Fashion</td>\n      <td>Yes</td>\n      <td>Few times a month</td>\n      <td>Keyword</td>\n      <td>Multiple pages</td>\n      <td>1</td>\n      <td>...</td>\n      <td>Rarely</td>\n      <td>No</td>\n      <td>Heavily</td>\n      <td>Yes</td>\n      <td>2</td>\n      <td>Sometimes</td>\n      <td>3</td>\n      <td>2</td>\n      <td>Wide product selection</td>\n      <td>Reducing packaging waste</td>\n    </tr>\n    <tr>\n      <th>2</th>\n      <td>2023/06/04 5:04:56 PM GMT+5:30</td>\n      <td>24</td>\n      <td>Prefer not to say</td>\n      <td>Few times a month</td>\n      <td>Groceries and Gourmet Food;Clothing and Fashion</td>\n      <td>No</td>\n      <td>Few times a month</td>\n      <td>Keyword</td>\n      <td>Multiple pages</td>\n      <td>2</td>\n      <td>...</td>\n      <td>Rarely</td>\n      <td>No</td>\n      <td>Occasionally</td>\n      <td>No</td>\n      <td>4</td>\n      <td>No</td>\n      <td>3</td>\n      <td>3</td>\n      <td>Competitive prices</td>\n      <td>Product quality and accuracy</td>\n    </tr>\n    <tr>\n      <th>3</th>\n      <td>2023/06/04 5:13:00 PM GMT+5:30</td>\n      <td>24</td>\n      <td>Female</td>\n      <td>Once a month</td>\n      <td>Beauty and Personal Care;Clothing and Fashion;...</td>\n      <td>Sometimes</td>\n      <td>Few times a month</td>\n      <td>Keyword</td>\n      <td>First page</td>\n      <td>5</td>\n      <td>...</td>\n      <td>Sometimes</td>\n      <td>Yes</td>\n      <td>Heavily</td>\n      <td>Yes</td>\n      <td>3</td>\n      <td>Sometimes</td>\n      <td>3</td>\n      <td>4</td>\n      <td>Competitive prices</td>\n      <td>Product quality and accuracy</td>\n    </tr>\n    <tr>\n      <th>4</th>\n      <td>2023/06/04 5:28:06 PM GMT+5:30</td>\n      <td>22</td>\n      <td>Female</td>\n      <td>Less than once a month</td>\n      <td>Beauty and Personal Care;Clothing and Fashion</td>\n      <td>Yes</td>\n      <td>Few times a month</td>\n      <td>Filter</td>\n      <td>Multiple pages</td>\n      <td>1</td>\n      <td>...</td>\n      <td>Rarely</td>\n      <td>No</td>\n      <td>Heavily</td>\n      <td>Yes</td>\n      <td>4</td>\n      <td>Yes</td>\n      <td>2</td>\n      <td>2</td>\n      <td>Competitive prices</td>\n      <td>Product quality and accuracy</td>\n    </tr>\n  </tbody>\n</table>\n<p>5 rows × 23 columns</p>\n</div>"
     },
     "execution_count": 1,
     "metadata": {},
     "output_type": "execute_result"
    }
   ],
   "source": [
    "# Importing necessary libraries and suppressing warnings\n",
    "import warnings\n",
    "\n",
    "warnings.filterwarnings('ignore')\n",
    "\n",
    "import numpy as np\n",
    "import pandas as pd\n",
    "\n",
    "df = pd.read_csv(\"Amazon Customer Behavior Survey.csv\")\n",
    "\n",
    "df.head()"
   ],
   "metadata": {
    "collapsed": false,
    "ExecuteTime": {
     "end_time": "2025-04-11T21:36:06.093255600Z",
     "start_time": "2025-04-11T21:36:06.056700200Z"
    }
   },
   "id": "1a7b8585afb1b1a1"
  },
  {
   "cell_type": "markdown",
   "source": [
    "# Data Cleaning and Preprocessing\n",
    "\n"
   ],
   "metadata": {
    "collapsed": false
   },
   "id": "d42014fbbdd90fa7"
  },
  {
   "cell_type": "markdown",
   "source": [
    "Before diving into analysis, it is important to check the data for any inconsistencies such as missing or invalid values, and to perform necessary preprocessing to ensure data quality."
   ],
   "metadata": {
    "collapsed": false
   },
   "id": "e3c3a99476784734"
  },
  {
   "cell_type": "markdown",
   "source": [
    "**Display the data type and non-null count for each column**"
   ],
   "metadata": {
    "collapsed": false
   },
   "id": "9823e6be8da9a655"
  },
  {
   "cell_type": "code",
   "execution_count": 2,
   "outputs": [
    {
     "name": "stdout",
     "output_type": "stream",
     "text": [
      "<class 'pandas.core.frame.DataFrame'>\n",
      "RangeIndex: 602 entries, 0 to 601\n",
      "Data columns (total 23 columns):\n",
      " #   Column                                  Non-Null Count  Dtype \n",
      "---  ------                                  --------------  ----- \n",
      " 0   Timestamp                               602 non-null    object\n",
      " 1   age                                     602 non-null    int64 \n",
      " 2   Gender                                  602 non-null    object\n",
      " 3   Purchase_Frequency                      602 non-null    object\n",
      " 4   Purchase_Categories                     602 non-null    object\n",
      " 5   Personalized_Recommendation_Frequency   602 non-null    object\n",
      " 6   Browsing_Frequency                      602 non-null    object\n",
      " 7   Product_Search_Method                   600 non-null    object\n",
      " 8   Search_Result_Exploration               602 non-null    object\n",
      " 9   Customer_Reviews_Importance             602 non-null    int64 \n",
      " 10  Add_to_Cart_Browsing                    602 non-null    object\n",
      " 11  Cart_Completion_Frequency               602 non-null    object\n",
      " 12  Cart_Abandonment_Factors                602 non-null    object\n",
      " 13  Saveforlater_Frequency                  602 non-null    object\n",
      " 14  Review_Left                             602 non-null    object\n",
      " 15  Review_Reliability                      602 non-null    object\n",
      " 16  Review_Helpfulness                      602 non-null    object\n",
      " 17  Personalized_Recommendation_Frequency   602 non-null    int64 \n",
      " 18  Recommendation_Helpfulness              602 non-null    object\n",
      " 19  Rating_Accuracy                         602 non-null    int64 \n",
      " 20  Shopping_Satisfaction                   602 non-null    int64 \n",
      " 21  Service_Appreciation                    602 non-null    object\n",
      " 22  Improvement_Areas                       602 non-null    object\n",
      "dtypes: int64(5), object(18)\n",
      "memory usage: 108.3+ KB\n"
     ]
    }
   ],
   "source": [
    "df.info()"
   ],
   "metadata": {
    "collapsed": false,
    "ExecuteTime": {
     "end_time": "2025-04-11T21:36:06.103277500Z",
     "start_time": "2025-04-11T21:36:06.088816800Z"
    }
   },
   "id": "c4702dcc8ad1c23"
  },
  {
   "cell_type": "markdown",
   "source": [
    "**Check the data summary statistics**"
   ],
   "metadata": {
    "collapsed": false
   },
   "id": "2c77b36606f2d8aa"
  },
  {
   "cell_type": "code",
   "execution_count": 3,
   "outputs": [
    {
     "data": {
      "text/plain": "              age  Customer_Reviews_Importance  \\\ncount  602.000000                   602.000000   \nmean    30.790698                     2.480066   \nstd     10.193276                     1.185226   \nmin      3.000000                     1.000000   \n25%     23.000000                     1.000000   \n50%     26.000000                     3.000000   \n75%     36.000000                     3.000000   \nmax     67.000000                     5.000000   \n\n       Personalized_Recommendation_Frequency   Rating_Accuracy   \\\ncount                              602.000000        602.000000   \nmean                                 2.699336          2.672757   \nstd                                  1.042028          0.899744   \nmin                                  1.000000          1.000000   \n25%                                  2.000000          2.000000   \n50%                                  3.000000          3.000000   \n75%                                  3.000000          3.000000   \nmax                                  5.000000          5.000000   \n\n       Shopping_Satisfaction  \ncount             602.000000  \nmean                2.463455  \nstd                 1.012152  \nmin                 1.000000  \n25%                 2.000000  \n50%                 2.000000  \n75%                 3.000000  \nmax                 5.000000  ",
      "text/html": "<div>\n<style scoped>\n    .dataframe tbody tr th:only-of-type {\n        vertical-align: middle;\n    }\n\n    .dataframe tbody tr th {\n        vertical-align: top;\n    }\n\n    .dataframe thead th {\n        text-align: right;\n    }\n</style>\n<table border=\"1\" class=\"dataframe\">\n  <thead>\n    <tr style=\"text-align: right;\">\n      <th></th>\n      <th>age</th>\n      <th>Customer_Reviews_Importance</th>\n      <th>Personalized_Recommendation_Frequency</th>\n      <th>Rating_Accuracy</th>\n      <th>Shopping_Satisfaction</th>\n    </tr>\n  </thead>\n  <tbody>\n    <tr>\n      <th>count</th>\n      <td>602.000000</td>\n      <td>602.000000</td>\n      <td>602.000000</td>\n      <td>602.000000</td>\n      <td>602.000000</td>\n    </tr>\n    <tr>\n      <th>mean</th>\n      <td>30.790698</td>\n      <td>2.480066</td>\n      <td>2.699336</td>\n      <td>2.672757</td>\n      <td>2.463455</td>\n    </tr>\n    <tr>\n      <th>std</th>\n      <td>10.193276</td>\n      <td>1.185226</td>\n      <td>1.042028</td>\n      <td>0.899744</td>\n      <td>1.012152</td>\n    </tr>\n    <tr>\n      <th>min</th>\n      <td>3.000000</td>\n      <td>1.000000</td>\n      <td>1.000000</td>\n      <td>1.000000</td>\n      <td>1.000000</td>\n    </tr>\n    <tr>\n      <th>25%</th>\n      <td>23.000000</td>\n      <td>1.000000</td>\n      <td>2.000000</td>\n      <td>2.000000</td>\n      <td>2.000000</td>\n    </tr>\n    <tr>\n      <th>50%</th>\n      <td>26.000000</td>\n      <td>3.000000</td>\n      <td>3.000000</td>\n      <td>3.000000</td>\n      <td>2.000000</td>\n    </tr>\n    <tr>\n      <th>75%</th>\n      <td>36.000000</td>\n      <td>3.000000</td>\n      <td>3.000000</td>\n      <td>3.000000</td>\n      <td>3.000000</td>\n    </tr>\n    <tr>\n      <th>max</th>\n      <td>67.000000</td>\n      <td>5.000000</td>\n      <td>5.000000</td>\n      <td>5.000000</td>\n      <td>5.000000</td>\n    </tr>\n  </tbody>\n</table>\n</div>"
     },
     "execution_count": 3,
     "metadata": {},
     "output_type": "execute_result"
    }
   ],
   "source": [
    "df.describe()"
   ],
   "metadata": {
    "collapsed": false,
    "ExecuteTime": {
     "end_time": "2025-04-11T21:36:06.168040200Z",
     "start_time": "2025-04-11T21:36:06.098793600Z"
    }
   },
   "id": "b074fdc63ae50837"
  },
  {
   "cell_type": "markdown",
   "source": [
    "**Remove duplicates**"
   ],
   "metadata": {
    "collapsed": false
   },
   "id": "a7f946bb752709b2"
  },
  {
   "cell_type": "code",
   "execution_count": 4,
   "outputs": [
    {
     "data": {
      "text/plain": "np.int64(0)"
     },
     "execution_count": 4,
     "metadata": {},
     "output_type": "execute_result"
    }
   ],
   "source": [
    "# Checking for duplicates\n",
    "df.duplicated().sum()"
   ],
   "metadata": {
    "collapsed": false,
    "ExecuteTime": {
     "end_time": "2025-04-11T21:36:06.187356Z",
     "start_time": "2025-04-11T21:36:06.117143300Z"
    }
   },
   "id": "9587e0b943f54fee"
  },
  {
   "cell_type": "markdown",
   "source": [
    "**There are no duplicate rows in the dataset.**"
   ],
   "metadata": {
    "collapsed": false
   },
   "id": "e78da265c312d691"
  },
  {
   "cell_type": "markdown",
   "source": [
    "**Fill missing values**"
   ],
   "metadata": {
    "collapsed": false
   },
   "id": "5c60559f07e0fed5"
  },
  {
   "cell_type": "code",
   "execution_count": 5,
   "outputs": [
    {
     "data": {
      "text/plain": "Timestamp                                 0\nage                                       0\nGender                                    0\nPurchase_Frequency                        0\nPurchase_Categories                       0\nPersonalized_Recommendation_Frequency     0\nBrowsing_Frequency                        0\nProduct_Search_Method                     2\nSearch_Result_Exploration                 0\nCustomer_Reviews_Importance               0\nAdd_to_Cart_Browsing                      0\nCart_Completion_Frequency                 0\nCart_Abandonment_Factors                  0\nSaveforlater_Frequency                    0\nReview_Left                               0\nReview_Reliability                        0\nReview_Helpfulness                        0\nPersonalized_Recommendation_Frequency     0\nRecommendation_Helpfulness                0\nRating_Accuracy                           0\nShopping_Satisfaction                     0\nService_Appreciation                      0\nImprovement_Areas                         0\ndtype: int64"
     },
     "execution_count": 5,
     "metadata": {},
     "output_type": "execute_result"
    }
   ],
   "source": [
    "df.isnull().sum()"
   ],
   "metadata": {
    "collapsed": false,
    "ExecuteTime": {
     "end_time": "2025-04-11T21:36:06.256282900Z",
     "start_time": "2025-04-11T21:36:06.130064100Z"
    }
   },
   "id": "7db8074624efc65b"
  },
  {
   "cell_type": "markdown",
   "source": [
    "**There are two missing values in column 'Product_Search_Method', I decide to fill them with 'None'**"
   ],
   "metadata": {
    "collapsed": false
   },
   "id": "b38cace4c2f1dc9d"
  },
  {
   "cell_type": "code",
   "execution_count": 6,
   "outputs": [
    {
     "data": {
      "text/plain": "Timestamp                                 0\nage                                       0\nGender                                    0\nPurchase_Frequency                        0\nPurchase_Categories                       0\nPersonalized_Recommendation_Frequency     0\nBrowsing_Frequency                        0\nProduct_Search_Method                     0\nSearch_Result_Exploration                 0\nCustomer_Reviews_Importance               0\nAdd_to_Cart_Browsing                      0\nCart_Completion_Frequency                 0\nCart_Abandonment_Factors                  0\nSaveforlater_Frequency                    0\nReview_Left                               0\nReview_Reliability                        0\nReview_Helpfulness                        0\nPersonalized_Recommendation_Frequency     0\nRecommendation_Helpfulness                0\nRating_Accuracy                           0\nShopping_Satisfaction                     0\nService_Appreciation                      0\nImprovement_Areas                         0\ndtype: int64"
     },
     "execution_count": 6,
     "metadata": {},
     "output_type": "execute_result"
    }
   ],
   "source": [
    "df['Product_Search_Method'] = df['Product_Search_Method'].fillna('None')\n",
    "df.isnull().sum()"
   ],
   "metadata": {
    "collapsed": false,
    "ExecuteTime": {
     "end_time": "2025-04-11T21:36:06.289106Z",
     "start_time": "2025-04-11T21:36:06.139563200Z"
    }
   },
   "id": "88d8da774fd2a6fd"
  },
  {
   "cell_type": "markdown",
   "source": [
    "**Created a new column named 'ConsumerID' by combining columns 'Timestamp', 'age' and 'Gender' to support table joins in Tableau.**"
   ],
   "metadata": {
    "collapsed": false
   },
   "id": "1c67b86fd5beb1eb"
  },
  {
   "cell_type": "code",
   "execution_count": 7,
   "outputs": [
    {
     "data": {
      "text/plain": "0             2023/06/04 1:28:19 PM GMT+5:30_23_Female\n1             2023/06/04 2:30:44 PM GMT+5:30_23_Female\n2    2023/06/04 5:04:56 PM GMT+5:30_24_Prefer not t...\n3             2023/06/04 5:13:00 PM GMT+5:30_24_Female\n4             2023/06/04 5:28:06 PM GMT+5:30_22_Female\nName: ConsumerID, dtype: object"
     },
     "execution_count": 7,
     "metadata": {},
     "output_type": "execute_result"
    }
   ],
   "source": [
    "df['ConsumerID'] = df['Timestamp'].astype(str) + \"_\" + df['age'].astype(str) + \"_\" + df['Gender'].astype(str)\n",
    "df['ConsumerID'].head()"
   ],
   "metadata": {
    "collapsed": false,
    "ExecuteTime": {
     "end_time": "2025-04-11T21:36:06.289106Z",
     "start_time": "2025-04-11T21:36:06.159571900Z"
    }
   },
   "id": "88a1e98917a59d73"
  },
  {
   "cell_type": "markdown",
   "source": [
    "**For column 'Rating_Accuracy' which means how would you rate the relevance and accuracy of the recommendations you receive, contains values from 1 to 5, which are mapped to 'Very Inaccurate', 'Inaccurate', 'Neutral', 'Accurate', and 'Very Accurate' based on their meanings.**"
   ],
   "metadata": {
    "collapsed": false
   },
   "id": "3c84bfc5c14c3395"
  },
  {
   "cell_type": "code",
   "execution_count": 8,
   "outputs": [],
   "source": [
    "rating_map = {\n",
    "    1: 'Very Inaccurate',\n",
    "    2: 'Inaccurate',\n",
    "    3: 'Neutral',\n",
    "    4: 'Accurate',\n",
    "    5: 'Very Accurate'\n",
    "}\n",
    "\n",
    "df['Rating_Accuracy_Text '] = df['Rating_Accuracy '].map(rating_map)"
   ],
   "metadata": {
    "collapsed": false,
    "ExecuteTime": {
     "end_time": "2025-04-11T21:36:06.289106Z",
     "start_time": "2025-04-11T21:36:06.168040200Z"
    }
   },
   "id": "d0134aebd7ea964d"
  },
  {
   "cell_type": "markdown",
   "source": [
    "**For column 'Personalized_Recommendation_Frequency ', which means how often do you receive personalized product recommendations from Amazon, contains values from 1 to 5, which are interpreted as 'Never', 'Rarely', 'Occasionally', 'Often', and 'Always' based on their corresponding meanings.**"
   ],
   "metadata": {
    "collapsed": false
   },
   "id": "f3ffc00e8a9306ac"
  },
  {
   "cell_type": "code",
   "execution_count": 9,
   "outputs": [],
   "source": [
    "freq_map = {\n",
    "    1: 'Never',\n",
    "    2: 'Rarely',\n",
    "    3: 'Occasionally',\n",
    "    4: 'Often',\n",
    "    5: 'Always'\n",
    "}\n",
    "\n",
    "df['Personalized_Recommendation_Frequency _Text'] = df['Personalized_Recommendation_Frequency '].map(freq_map)"
   ],
   "metadata": {
    "collapsed": false,
    "ExecuteTime": {
     "end_time": "2025-04-11T21:36:06.315621600Z",
     "start_time": "2025-04-11T21:36:06.177470200Z"
    }
   },
   "id": "488478193e1c8e0d"
  },
  {
   "cell_type": "markdown",
   "source": [
    "**For column 'Shopping_Satisfaction', which means how satisfied are you with your overall shopping experience on Amazon, contains values from 1 to 5, which are interpreted as 'Very Dissatisfied', 'Dissatisfied', 'Neutral', 'Satisfied', and 'Very Satisfied', based on their corresponding meanings.**"
   ],
   "metadata": {
    "collapsed": false
   },
   "id": "5326295061c2740e"
  },
  {
   "cell_type": "code",
   "execution_count": 10,
   "outputs": [],
   "source": [
    "satisfy_map = {\n",
    "    1: 'Very Dissatisfied',\n",
    "    2: 'Dissatisfied',\n",
    "    3: 'Natural',\n",
    "    4: 'Satisfied',\n",
    "    5: 'Very Satisfied'\n",
    "}\n",
    "\n",
    "df['Shopping_Satisfaction_Text'] = df['Shopping_Satisfaction'].map(satisfy_map)"
   ],
   "metadata": {
    "collapsed": false,
    "ExecuteTime": {
     "end_time": "2025-04-11T21:36:06.410387800Z",
     "start_time": "2025-04-11T21:36:06.190807Z"
    }
   },
   "id": "1fcfaee933a5aa71"
  },
  {
   "cell_type": "markdown",
   "source": [
    "**For column 'age', this field is grouped into age ranges and processed as follows: under 20, 21–25, 26–30, 31–35, 36–40, 41–45, 46–50, and over 50.**"
   ],
   "metadata": {
    "collapsed": false
   },
   "id": "13edee9700f65790"
  },
  {
   "cell_type": "code",
   "execution_count": 11,
   "outputs": [],
   "source": [
    "bins = [0, 20, 25, 30, 35, 40, 45, 50, float('inf')]\n",
    "labels = ['Under 20', '21-25', '26-30', '31-35', '36-40', '41-45', '46-50', 'Over 50']\n",
    "\n",
    "df['age_Distribution'] = pd.cut(df['age'], bins=bins, labels=labels, right=True)"
   ],
   "metadata": {
    "collapsed": false,
    "ExecuteTime": {
     "end_time": "2025-04-11T21:36:06.448505400Z",
     "start_time": "2025-04-11T21:36:06.197554900Z"
    }
   },
   "id": "3306fb79103b0d9a"
  },
  {
   "cell_type": "markdown",
   "source": [
    "**Great! Now that the data has been cleaned, let's go ahead and export the cleaned dataset.**"
   ],
   "metadata": {
    "collapsed": false
   },
   "id": "a51697e4d3b5cedf"
  },
  {
   "cell_type": "code",
   "execution_count": 12,
   "outputs": [],
   "source": [
    "df.to_csv(\"amazon_survey_cleaned.csv\", index=False, encoding='utf-8')"
   ],
   "metadata": {
    "collapsed": false,
    "ExecuteTime": {
     "end_time": "2025-04-11T21:36:06.480621400Z",
     "start_time": "2025-04-11T21:36:06.218443700Z"
    }
   },
   "id": "4103c07a1f2fc363"
  },
  {
   "cell_type": "markdown",
   "source": [
    "# Create New Dataset"
   ],
   "metadata": {
    "collapsed": false
   },
   "id": "adae69f81a02b5f3"
  },
  {
   "cell_type": "markdown",
   "source": [
    "**Next, since I need to analyze consumer preferences in product purchases, I’ll generate a new dataset for that purpose.**"
   ],
   "metadata": {
    "collapsed": false
   },
   "id": "a23c0c9e9ed9a22"
  },
  {
   "cell_type": "markdown",
   "source": [
    "**The 'Purchase_Categories' column contains multiple values separated by \";\", so they need to be split accordingly.**"
   ],
   "metadata": {
    "collapsed": false
   },
   "id": "ea2cf0b8fd268713"
  },
  {
   "cell_type": "code",
   "execution_count": 13,
   "outputs": [
    {
     "data": {
      "text/plain": "Index(['Category_Preference1', 'Category_Preference2', 'Category_Preference3',\n       'Category_Preference4', 'Category_Preference5'],\n      dtype='object')"
     },
     "execution_count": 13,
     "metadata": {},
     "output_type": "execute_result"
    }
   ],
   "source": [
    "df_split = df['Purchase_Categories'].str.split(';', expand=True)\n",
    "df_split.columns = [f'Category_Preference{i + 1}' for i in range(df_split.shape[1])]\n",
    "df_split.columns"
   ],
   "metadata": {
    "collapsed": false,
    "ExecuteTime": {
     "end_time": "2025-04-11T21:36:06.480621400Z",
     "start_time": "2025-04-11T21:36:06.239137500Z"
    }
   },
   "id": "6e7c644a171bbedf"
  },
  {
   "cell_type": "markdown",
   "source": [
    "**We can see that splitting the column by ';' has created five new columns. Now, I need to combine these five columns back into a single column.**"
   ],
   "metadata": {
    "collapsed": false
   },
   "id": "48dac62ae607ff41"
  },
  {
   "cell_type": "code",
   "execution_count": 14,
   "outputs": [],
   "source": [
    "# To support further analysis, I keep column ‘Timestamp', 'age', 'Gender', 'age_Distribution', 'Purchase_Frequency', and 'Category_Preference', and filter out any records with missing category preference information.\n",
    "df_melt = pd.melt(\n",
    "    pd.concat([df[['ConsumerID', 'Gender', 'age_Distribution', 'Purchase_Frequency']], df_split], axis=1),\n",
    "    id_vars=['ConsumerID', 'Gender', 'age_Distribution', 'Purchase_Frequency'],\n",
    "    value_vars=df_split.columns,\n",
    "    value_name='Category_Preference'\n",
    ").dropna(subset='Category_Preference')"
   ],
   "metadata": {
    "collapsed": false,
    "ExecuteTime": {
     "end_time": "2025-04-11T21:36:06.480621400Z",
     "start_time": "2025-04-11T21:36:06.251914800Z"
    }
   },
   "id": "63f3f2dc5d9c1119"
  },
  {
   "cell_type": "markdown",
   "source": [
    "**Now let's export this new dataset.**"
   ],
   "metadata": {
    "collapsed": false
   },
   "id": "9123581ab29c569e"
  },
  {
   "cell_type": "code",
   "execution_count": 15,
   "outputs": [],
   "source": [
    "df_melt.to_csv(\"Consumer_Preference.csv\", index=False, encoding='utf-8')"
   ],
   "metadata": {
    "collapsed": false,
    "ExecuteTime": {
     "end_time": "2025-04-11T21:36:06.480621400Z",
     "start_time": "2025-04-11T21:36:06.272070700Z"
    }
   },
   "id": "daf37c07b76c6ddc"
  },
  {
   "cell_type": "markdown",
   "source": [
    "**In addition, I plan to analyze consumer shopping behavior, so I need to create another new dataset.**"
   ],
   "metadata": {
    "collapsed": false
   },
   "id": "f7584cc3c9e583dc"
  },
  {
   "cell_type": "code",
   "execution_count": 16,
   "outputs": [],
   "source": [
    "# Each row represents a single consumer\n",
    "df['Consumer_Count'] = 1"
   ],
   "metadata": {
    "collapsed": false,
    "ExecuteTime": {
     "end_time": "2025-04-11T21:36:06.480621400Z",
     "start_time": "2025-04-11T21:36:06.287229900Z"
    }
   },
   "id": "5547b086e1ea35da"
  },
  {
   "cell_type": "markdown",
   "source": [
    "**Convert 'Add_to_Cart_Browsing', 'Cart_Completion_Frequency', and 'Consumer_Count' these three columns into rows, and then filter the dataset**"
   ],
   "metadata": {
    "collapsed": false
   },
   "id": "aae0fdc603016f87"
  },
  {
   "cell_type": "code",
   "execution_count": 17,
   "outputs": [],
   "source": [
    "df_melted = pd.melt(\n",
    "    df,\n",
    "    id_vars=['ConsumerID'],\n",
    "    value_vars=[\n",
    "        'Add_to_Cart_Browsing',\n",
    "        'Cart_Completion_Frequency',\n",
    "        'Consumer_Count'\n",
    "    ],\n",
    "    var_name='Column_Name',\n",
    "    value_name='Values'\n",
    ")\n",
    "\n",
    "# Filter the dataset\n",
    "df_filtered = df_melted[\n",
    "    (df_melted['Column_Name'] == 'Consumer_Count') |\n",
    "    ((df_melted['Column_Name'] == 'Add_to_Cart_Browsing') & (df_melted['Values'] == 'Yes')) |\n",
    "    ((df_melted['Column_Name'] == 'Cart_Completion_Frequency') & (df_melted['Values'] == 'Always'))\n",
    "    ]"
   ],
   "metadata": {
    "collapsed": false,
    "ExecuteTime": {
     "end_time": "2025-04-11T21:36:06.480621400Z",
     "start_time": "2025-04-11T21:36:06.294928300Z"
    }
   },
   "id": "27b4a383c50d691b"
  },
  {
   "cell_type": "markdown",
   "source": [
    "**Export the new dataset**."
   ],
   "metadata": {
    "collapsed": false
   },
   "id": "adf0c06e052b29bf"
  },
  {
   "cell_type": "code",
   "execution_count": 18,
   "outputs": [],
   "source": [
    "df_filtered.to_csv(\"Shopping_Behavior.csv\", index=False, encoding='utf-8')"
   ],
   "metadata": {
    "collapsed": false,
    "ExecuteTime": {
     "end_time": "2025-04-11T21:36:06.496404Z",
     "start_time": "2025-04-11T21:36:06.303401800Z"
    }
   },
   "id": "dbdb34f8cba47220"
  },
  {
   "cell_type": "markdown",
   "source": [
    "## Now that all the data is ready, it's time to start exploring it."
   ],
   "metadata": {
    "collapsed": false
   },
   "id": "6008cb00a46b9866"
  },
  {
   "cell_type": "code",
   "execution_count": null,
   "outputs": [],
   "source": [],
   "metadata": {
    "collapsed": false
   },
   "id": "6f0473bbb914bc50"
  }
 ],
 "metadata": {
  "kernelspec": {
   "display_name": "Python 3",
   "language": "python",
   "name": "python3"
  },
  "language_info": {
   "codemirror_mode": {
    "name": "ipython",
    "version": 2
   },
   "file_extension": ".py",
   "mimetype": "text/x-python",
   "name": "python",
   "nbconvert_exporter": "python",
   "pygments_lexer": "ipython2",
   "version": "2.7.6"
  }
 },
 "nbformat": 4,
 "nbformat_minor": 5
}
